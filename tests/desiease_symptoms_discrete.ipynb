{
 "cells": [
  {
   "cell_type": "code",
   "execution_count": 16,
   "metadata": {},
   "outputs": [],
   "source": [
    "from pomegranate import BayesianNetwork, DiscreteDistribution, ConditionalProbabilityTable, Node, State\n",
    "import matplotlib.pyplot as plt"
   ]
  },
  {
   "cell_type": "code",
   "execution_count": 17,
   "metadata": {},
   "outputs": [],
   "source": [
    "pain_syndrome = DiscreteDistribution({'yes': .5, 'no': .5})\n",
    "\n",
    "relief_of_pain = DiscreteDistribution({'yes': 1./3, 'not_completely': 1./3, 'no': 1./3})\n",
    "\n",
    "angina_pectoris = ConditionalProbabilityTable([\n",
    "    \n",
    "    ['yes', 'yes', 'True', 0.9],\n",
    "    ['yes', 'yes', 'False', 0.1],\n",
    "    \n",
    "    ['yes', 'not_completely', 'True', 0.3],\n",
    "    ['yes', 'not_completely', 'False', 0.7],\n",
    "    \n",
    "    ['yes', 'no', 'True', 0.1],\n",
    "    ['yes', 'no', 'False', 0.9],\n",
    "    \n",
    "    ['no', 'yes', 'True', 0.01],\n",
    "    ['no', 'yes', 'False', 0.99],\n",
    "    \n",
    "    ['no', 'not_completely', 'True', 0.01],\n",
    "    ['no', 'not_completely', 'False', 0.99],\n",
    "    \n",
    "    ['no', 'no', 'True', 0.01],\n",
    "    ['no', 'no', 'False', 0.99],\n",
    "    \n",
    "], [pain_syndrome, relief_of_pain])\n",
    "\n",
    "\n",
    "heart_attack = ConditionalProbabilityTable([\n",
    "    \n",
    "    ['yes', 'yes', 'True', 0.1],\n",
    "    ['yes', 'yes', 'False', 0.9],\n",
    "    \n",
    "    ['yes', 'not_completely', 'True', 0.7],\n",
    "    ['yes', 'not_completely', 'False', 0.3],\n",
    "    \n",
    "    ['yes', 'no', 'True', 0.9],\n",
    "    ['yes', 'no', 'False', 0.1],\n",
    "    \n",
    "    ['no', 'yes', 'True', 0.01],\n",
    "    ['no', 'yes', 'False', 0.99],\n",
    "    \n",
    "    ['no', 'not_completely', 'True', 0.01],\n",
    "    ['no', 'not_completely', 'False', 0.99],\n",
    "    \n",
    "    ['no', 'no', 'True', 0.01],\n",
    "    ['no', 'no', 'False', 0.99],\n",
    "    \n",
    "], [pain_syndrome, relief_of_pain])"
   ]
  },
  {
   "cell_type": "code",
   "execution_count": 18,
   "metadata": {},
   "outputs": [],
   "source": [
    "ps = State(pain_syndrome, name='pain_syndrome')\n",
    "rp = State(relief_of_pain, name='relief_of_pain')\n",
    "ap = State(angina_pectoris, name='angina_pectoris')\n",
    "ha = State(heart_attack, name='heart_attack')"
   ]
  },
  {
   "cell_type": "code",
   "execution_count": 19,
   "metadata": {},
   "outputs": [],
   "source": [
    "model = BayesianNetwork('Medical decision support system')\n",
    "\n",
    "model.add_states(ps, rp, ap, ha)"
   ]
  },
  {
   "cell_type": "code",
   "execution_count": 20,
   "metadata": {},
   "outputs": [],
   "source": [
    "model.add_edge(ps, ap)\n",
    "model.add_edge(rp, ap)\n",
    "\n",
    "model.add_edge(ps, ha)\n",
    "model.add_edge(rp, ha)"
   ]
  },
  {
   "cell_type": "code",
   "execution_count": 21,
   "metadata": {},
   "outputs": [],
   "source": [
    "model.bake()"
   ]
  },
  {
   "cell_type": "code",
   "execution_count": 22,
   "metadata": {},
   "outputs": [
    {
     "data": {
      "image/png": "[encoded data removed]",
      "text/plain": [
       "<Figure size 720x720 with 1 Axes>"
      ]
     },
     "metadata": {
      "needs_background": "light"
     },
     "output_type": "display_data"
    }
   ],
   "source": [
    "plt.figure(figsize=(10, 10))\n",
    "model.plot()\n",
    "plt.show()"
   ]
  },
  {
   "cell_type": "code",
   "execution_count": 23,
   "metadata": {},
   "outputs": [],
   "source": [
    "def get_predictions(prediction):\n",
    "    result = []\n",
    "    for p in prediction:\n",
    "        if (type(p) is str): \n",
    "            result.append(p)\n",
    "        else:\n",
    "            params = p.parameters[0]\n",
    "            result.append(max(params, key=params.get))\n",
    "    return result"
   ]
  },
  {
   "cell_type": "code",
   "execution_count": 24,
   "metadata": {},
   "outputs": [
    {
     "name": "stdout",
     "output_type": "stream",
     "text": [
      "['yes' 'no'\n",
      " {\n",
      "    \"class\" :\"Distribution\",\n",
      "    \"dtype\" :\"str\",\n",
      "    \"name\" :\"DiscreteDistribution\",\n",
      "    \"parameters\" :[\n",
      "        {\n",
      "            \"False\" :0.8999999999999999,\n",
      "            \"True\" :0.1000000000000002\n",
      "        }\n",
      "    ],\n",
      "    \"frozen\" :false\n",
      "}\n",
      " {\n",
      "    \"class\" :\"Distribution\",\n",
      "    \"dtype\" :\"str\",\n",
      "    \"name\" :\"DiscreteDistribution\",\n",
      "    \"parameters\" :[\n",
      "        {\n",
      "            \"False\" :0.1000000000000002,\n",
      "            \"True\" :0.8999999999999999\n",
      "        }\n",
      "    ],\n",
      "    \"frozen\" :false\n",
      "}]\n",
      "pain_syndrome\trelief_of_pain\tangina_pectoris\theart_attack\n",
      "yes\tno\tFalse\tTrue\n"
     ]
    }
   ],
   "source": [
    "result = model.predict_proba({'pain_syndrome': 'yes', 'relief_of_pain': 'no'})\n",
    "print(result)\n",
    "print('\\t'.join([state.name for state in model.states]))\n",
    "print('\\t'. join(get_predictions(result)))"
   ]
  },
  {
   "cell_type": "code",
   "execution_count": 25,
   "metadata": {},
   "outputs": [
    {
     "name": "stdout",
     "output_type": "stream",
     "text": [
      "['yes'\n",
      " {\n",
      "    \"class\" :\"Distribution\",\n",
      "    \"dtype\" :\"str\",\n",
      "    \"name\" :\"DiscreteDistribution\",\n",
      "    \"parameters\" :[\n",
      "        {\n",
      "            \"yes\" :0.3333333333333334,\n",
      "            \"not_completely\" :0.3333333333333331,\n",
      "            \"no\" :0.3333333333333334\n",
      "        }\n",
      "    ],\n",
      "    \"frozen\" :false\n",
      "}\n",
      " {\n",
      "    \"class\" :\"Distribution\",\n",
      "    \"dtype\" :\"str\",\n",
      "    \"name\" :\"DiscreteDistribution\",\n",
      "    \"parameters\" :[\n",
      "        {\n",
      "            \"False\" :0.5666666666666665,\n",
      "            \"True\" :0.4333333333333334\n",
      "        }\n",
      "    ],\n",
      "    \"frozen\" :false\n",
      "}\n",
      " {\n",
      "    \"class\" :\"Distribution\",\n",
      "    \"dtype\" :\"str\",\n",
      "    \"name\" :\"DiscreteDistribution\",\n",
      "    \"parameters\" :[\n",
      "        {\n",
      "            \"False\" :0.4333333333333333,\n",
      "            \"True\" :0.5666666666666665\n",
      "        }\n",
      "    ],\n",
      "    \"frozen\" :false\n",
      "}]\n",
      "pain_syndrome\trelief_of_pain\tangina_pectoris\theart_attack\n",
      "yes\tyes\tFalse\tTrue\n"
     ]
    }
   ],
   "source": [
    "result = model.predict_proba({'pain_syndrome': 'yes'})\n",
    "print(result)\n",
    "print('\\t'.join([state.name for state in model.states]))\n",
    "print('\\t'. join(get_predictions(result)))"
   ]
  },
  {
   "cell_type": "code",
   "execution_count": 26,
   "metadata": {},
   "outputs": [
    {
     "name": "stdout",
     "output_type": "stream",
     "text": [
      "['yes' 'not_completely'\n",
      " {\n",
      "    \"class\" :\"Distribution\",\n",
      "    \"dtype\" :\"str\",\n",
      "    \"name\" :\"DiscreteDistribution\",\n",
      "    \"parameters\" :[\n",
      "        {\n",
      "            \"False\" :0.6999999999999998,\n",
      "            \"True\" :0.30000000000000004\n",
      "        }\n",
      "    ],\n",
      "    \"frozen\" :false\n",
      "}\n",
      " {\n",
      "    \"class\" :\"Distribution\",\n",
      "    \"dtype\" :\"str\",\n",
      "    \"name\" :\"DiscreteDistribution\",\n",
      "    \"parameters\" :[\n",
      "        {\n",
      "            \"False\" :0.30000000000000004,\n",
      "            \"True\" :0.6999999999999998\n",
      "        }\n",
      "    ],\n",
      "    \"frozen\" :false\n",
      "}]\n",
      "pain_syndrome\trelief_of_pain\tangina_pectoris\theart_attack\n",
      "yes\tnot_completely\tFalse\tTrue\n"
     ]
    }
   ],
   "source": [
    "result = model.predict_proba({'pain_syndrome': 'yes', 'relief_of_pain': 'not_completely'})\n",
    "print(result)\n",
    "print('\\t'.join([state.name for state in model.states]))\n",
    "print('\\t'. join(get_predictions(result)))"
   ]
  },
  {
   "cell_type": "code",
   "execution_count": null,
   "metadata": {},
   "outputs": [],
   "source": []
  }
 ],
 "metadata": {
  "kernelspec": {
   "display_name": "Python 3",
   "language": "python",
   "name": "python3"
  },
  "language_info": {
   "codemirror_mode": {
    "name": "ipython",
    "version": 3
   },
   "file_extension": ".py",
   "mimetype": "text/x-python",
   "name": "python",
   "nbconvert_exporter": "python",
   "pygments_lexer": "ipython3",
   "version": "3.6.9"
  }
 },
 "nbformat": 4,
 "nbformat_minor": 4
}
