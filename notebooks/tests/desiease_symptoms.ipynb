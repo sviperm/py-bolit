{
 "cells": [
  {
   "cell_type": "code",
   "execution_count": 1,
   "metadata": {},
   "outputs": [],
   "source": [
    "from pomegranate import BayesianNetwork, DiscreteDistribution, ConditionalProbabilityTable, Node, State\n",
    "import matplotlib.pyplot as plt"
   ]
  },
  {
   "cell_type": "code",
   "execution_count": 78,
   "metadata": {},
   "outputs": [],
   "source": [
    "angina_pectoris = DiscreteDistribution({0: 0.99, 1: 0.01})\n",
    "heart_attack = DiscreteDistribution({0: 0.99, 1: 0.01})\n",
    "\n",
    "pain_syndrome = ConditionalProbabilityTable([\n",
    "    \n",
    "    [0, 0, 1, 0.01],\n",
    "    [0, 0, 0, 0.99],\n",
    "    \n",
    "    [0, 1, 1, 0.9],\n",
    "    [0, 1, 0, 0.1],\n",
    "    \n",
    "    [1, 0, 1, 0.9],\n",
    "    [1, 0, 0, 0.1],\n",
    "    \n",
    "    [1, 1, 1, 1],\n",
    "    [1, 1, 0, 0],\n",
    "    \n",
    "], [angina_pectoris, heart_attack])\n",
    "\n",
    "relief_of_pain = ConditionalProbabilityTable([\n",
    "    \n",
    "    [0, 0, 'yes', 0.1],\n",
    "    [0, 0, 'not_completely', 0.1],\n",
    "    [0, 0, 'no', 0.1],\n",
    "    \n",
    "    [0, 1, 'yes', 0.05],\n",
    "    [0, 1, 'not_completely', 0.35],\n",
    "    [0, 1, 'no', 0.6],\n",
    "    \n",
    "    [1, 0, 'yes', 0.9],\n",
    "    [1, 0, 'not_completely', 0.05],\n",
    "    [1, 0, 'no', 0.05],\n",
    "    \n",
    "    [1, 1, 'yes', 0.33],\n",
    "    [1, 1, 'not_completely', 0.33],\n",
    "    [1, 1, 'no', 0.33],\n",
    "    \n",
    "], [angina_pectoris, heart_attack])"
   ]
  },
  {
   "cell_type": "code",
   "execution_count": 79,
   "metadata": {},
   "outputs": [],
   "source": [
    "ps = State(pain_syndrome, name='pain_syndrome')\n",
    "rp = State(relief_of_pain, name='relief_of_pain')\n",
    "ap = State(angina_pectoris, name='angina_pectoris')\n",
    "ha = State(heart_attack, name='heart_attack')"
   ]
  },
  {
   "cell_type": "code",
   "execution_count": 80,
   "metadata": {},
   "outputs": [],
   "source": [
    "model = BayesianNetwork('Medical decision support system')\n",
    "\n",
    "model.add_states(ps, rp, ap, ha)"
   ]
  },
  {
   "cell_type": "code",
   "execution_count": 81,
   "metadata": {},
   "outputs": [],
   "source": [
    "model.add_edge(ap, ps)\n",
    "model.add_edge(ap, rp)\n",
    "\n",
    "model.add_edge(ha, ps)\n",
    "model.add_edge(ha, rp)"
   ]
  },
  {
   "cell_type": "code",
   "execution_count": 82,
   "metadata": {},
   "outputs": [],
   "source": [
    "model.bake()"
   ]
  },
  {
   "cell_type": "code",
   "execution_count": 83,
   "metadata": {},
   "outputs": [
    {
     "data": {
      "image/png": "[encoded data removed]",
      "text/plain": [
       "<Figure size 720x720 with 1 Axes>"
      ]
     },
     "metadata": {
      "needs_background": "light"
     },
     "output_type": "display_data"
    }
   ],
   "source": [
    "plt.figure(figsize=(10, 10))\n",
    "model.plot()\n",
    "plt.show()"
   ]
  },
  {
   "cell_type": "markdown",
   "metadata": {},
   "source": [
    "### heart_attack"
   ]
  },
  {
   "cell_type": "code",
   "execution_count": 84,
   "metadata": {
    "collapsed": true,
    "jupyter": {
     "outputs_hidden": true
    }
   },
   "outputs": [
    {
     "name": "stdout",
     "output_type": "stream",
     "text": [
      "[1 'no'\n",
      " {\n",
      "    \"class\" :\"Distribution\",\n",
      "    \"dtype\" :\"int\",\n",
      "    \"name\" :\"DiscreteDistribution\",\n",
      "    \"parameters\" :[\n",
      "        {\n",
      "            \"0\" :0.925379674392153,\n",
      "            \"1\" :0.07462032560784713\n",
      "        }\n",
      "    ],\n",
      "    \"frozen\" :false\n",
      "}\n",
      " {\n",
      "    \"class\" :\"Distribution\",\n",
      "    \"dtype\" :\"int\",\n",
      "    \"name\" :\"DiscreteDistribution\",\n",
      "    \"parameters\" :[\n",
      "        {\n",
      "            \"0\" :0.21241261291094543,\n",
      "            \"1\" :0.7875873870890546\n",
      "        }\n",
      "    ],\n",
      "    \"frozen\" :false\n",
      "}]\n",
      "pain_syndrome\trelief_of_pain\tangina_pectoris\theart_attack\n"
     ]
    }
   ],
   "source": [
    "result = model.predict_proba({'pain_syndrome': 1, 'relief_of_pain': 'no'})\n",
    "print(result)\n",
    "print('\\t'.join([state.name for state in model.states]))"
   ]
  },
  {
   "cell_type": "markdown",
   "metadata": {},
   "source": [
    "### heart_attack"
   ]
  },
  {
   "cell_type": "code",
   "execution_count": 85,
   "metadata": {
    "collapsed": true,
    "jupyter": {
     "outputs_hidden": true
    }
   },
   "outputs": [
    {
     "name": "stdout",
     "output_type": "stream",
     "text": [
      "[1 'not_completely'\n",
      " {\n",
      "    \"class\" :\"Distribution\",\n",
      "    \"dtype\" :\"int\",\n",
      "    \"name\" :\"DiscreteDistribution\",\n",
      "    \"parameters\" :[\n",
      "        {\n",
      "            \"0\" :0.8562763341972283,\n",
      "            \"1\" :0.14372366580277166\n",
      "        }\n",
      "    ],\n",
      "    \"frozen\" :false\n",
      "}\n",
      " {\n",
      "    \"class\" :\"Distribution\",\n",
      "    \"dtype\" :\"int\",\n",
      "    \"name\" :\"DiscreteDistribution\",\n",
      "    \"parameters\" :[\n",
      "        {\n",
      "            \"0\" :0.33014355261153494,\n",
      "            \"1\" :0.6698564473884651\n",
      "        }\n",
      "    ],\n",
      "    \"frozen\" :false\n",
      "}]\n",
      "pain_syndrome\trelief_of_pain\tangina_pectoris\theart_attack\n"
     ]
    }
   ],
   "source": [
    "result = model.predict_proba({'pain_syndrome': 1, 'relief_of_pain': 'not_completely'})\n",
    "print(result)\n",
    "print('\\t'.join([state.name for state in model.states]))"
   ]
  },
  {
   "cell_type": "markdown",
   "metadata": {},
   "source": [
    "### angina_pectoris"
   ]
  },
  {
   "cell_type": "code",
   "execution_count": 86,
   "metadata": {
    "collapsed": true,
    "jupyter": {
     "outputs_hidden": true
    }
   },
   "outputs": [
    {
     "name": "stdout",
     "output_type": "stream",
     "text": [
      "[1 'yes'\n",
      " {\n",
      "    \"class\" :\"Distribution\",\n",
      "    \"dtype\" :\"int\",\n",
      "    \"name\" :\"DiscreteDistribution\",\n",
      "    \"parameters\" :[\n",
      "        {\n",
      "            \"0\" :0.1428557545606674,\n",
      "            \"1\" :0.8571442454393325\n",
      "        }\n",
      "    ],\n",
      "    \"frozen\" :false\n",
      "}\n",
      " {\n",
      "    \"class\" :\"Distribution\",\n",
      "    \"dtype\" :\"int\",\n",
      "    \"name\" :\"DiscreteDistribution\",\n",
      "    \"parameters\" :[\n",
      "        {\n",
      "            \"0\" :0.959236275759154,\n",
      "            \"1\" :0.040763724240846\n",
      "        }\n",
      "    ],\n",
      "    \"frozen\" :false\n",
      "}]\n",
      "pain_syndrome\trelief_of_pain\tangina_pectoris\theart_attack\n"
     ]
    }
   ],
   "source": [
    "result = model.predict_proba({'pain_syndrome': 1, 'relief_of_pain': 'yes'})\n",
    "print(result)\n",
    "print('\\t'.join([state.name for state in model.states]))"
   ]
  },
  {
   "cell_type": "markdown",
   "metadata": {},
   "source": [
    "### Not one of diagnosis"
   ]
  },
  {
   "cell_type": "code",
   "execution_count": 91,
   "metadata": {
    "collapsed": true,
    "jupyter": {
     "outputs_hidden": true
    }
   },
   "outputs": [
    {
     "name": "stdout",
     "output_type": "stream",
     "text": [
      "[0 'yes'\n",
      " {\n",
      "    \"class\" :\"Distribution\",\n",
      "    \"dtype\" :\"int\",\n",
      "    \"name\" :\"DiscreteDistribution\",\n",
      "    \"parameters\" :[\n",
      "        {\n",
      "            \"0\" :0.9909066194009126,\n",
      "            \"1\" :0.009093380599087493\n",
      "        }\n",
      "    ],\n",
      "    \"frozen\" :false\n",
      "}\n",
      " {\n",
      "    \"class\" :\"Distribution\",\n",
      "    \"dtype\" :\"int\",\n",
      "    \"name\" :\"DiscreteDistribution\",\n",
      "    \"parameters\" :[\n",
      "        {\n",
      "            \"0\" :0.999495969472771,\n",
      "            \"1\" :0.0005040305272289871\n",
      "        }\n",
      "    ],\n",
      "    \"frozen\" :false\n",
      "}]\n",
      "pain_syndrome\trelief_of_pain\tangina_pectoris\theart_attack\n"
     ]
    }
   ],
   "source": [
    "result = model.predict_proba({'pain_syndrome': 0, 'relief_of_pain': 'yes'})\n",
    "# result = model.predict_proba({'pain_syndrome': 0, 'relief_of_pain': 'not_completely'})\n",
    "# result = model.predict_proba({'pain_syndrome': 0, 'relief_of_pain': 'no'})\n",
    "print(result)\n",
    "print('\\t'.join([state.name for state in model.states]))"
   ]
  },
  {
   "cell_type": "markdown",
   "metadata": {},
   "source": [
    "### not enough data"
   ]
  },
  {
   "cell_type": "code",
   "execution_count": 87,
   "metadata": {
    "collapsed": true,
    "jupyter": {
     "outputs_hidden": true
    }
   },
   "outputs": [
    {
     "name": "stdout",
     "output_type": "stream",
     "text": [
      "[1\n",
      " {\n",
      "    \"class\" :\"Distribution\",\n",
      "    \"dtype\" :\"str\",\n",
      "    \"name\" :\"DiscreteDistribution\",\n",
      "    \"parameters\" :[\n",
      "        {\n",
      "            \"not_completely\" :0.25153535980321334,\n",
      "            \"yes\" :0.420243680209086,\n",
      "            \"no\" :0.32822095998770084\n",
      "        }\n",
      "    ],\n",
      "    \"frozen\" :false\n",
      "}\n",
      " {\n",
      "    \"class\" :\"Distribution\",\n",
      "    \"dtype\" :\"int\",\n",
      "    \"name\" :\"DiscreteDistribution\",\n",
      "    \"parameters\" :[\n",
      "        {\n",
      "            \"0\" :0.5969716569447359,\n",
      "            \"1\" :0.40302834305526414\n",
      "        }\n",
      "    ],\n",
      "    \"frozen\" :false\n",
      "}\n",
      " {\n",
      "    \"class\" :\"Distribution\",\n",
      "    \"dtype\" :\"int\",\n",
      "    \"name\" :\"DiscreteDistribution\",\n",
      "    \"parameters\" :[\n",
      "        {\n",
      "            \"0\" :0.5969716569447362,\n",
      "            \"1\" :0.4030283430552638\n",
      "        }\n",
      "    ],\n",
      "    \"frozen\" :false\n",
      "}]\n",
      "pain_syndrome\trelief_of_pain\tangina_pectoris\theart_attack\n"
     ]
    }
   ],
   "source": [
    "result = model.predict_proba({'pain_syndrome': 1})\n",
    "print(result)\n",
    "print('\\t'.join([state.name for state in model.states]))"
   ]
  },
  {
   "cell_type": "code",
   "execution_count": 95,
   "metadata": {},
   "outputs": [
    {
     "ename": "TypeError",
     "evalue": "list indices must be integers or slices, not tuple",
     "output_type": "error",
     "traceback": [
      "\u001b[0;31m---------------------------------------------------------------------------\u001b[0m",
      "\u001b[0;31mTypeError\u001b[0m                                 Traceback (most recent call last)",
      "\u001b[0;32m<ipython-input-95-9ad06861d739>\u001b[0m in \u001b[0;36m<module>\u001b[0;34m\u001b[0m\n\u001b[0;32m----> 1\u001b[0;31m \u001b[0mmodel\u001b[0m\u001b[0;34m.\u001b[0m\u001b[0mprobability\u001b[0m\u001b[0;34m(\u001b[0m\u001b[0;34m[\u001b[0m\u001b[0;36m0\u001b[0m\u001b[0;34m,\u001b[0m \u001b[0;34m'yes'\u001b[0m\u001b[0;34m,\u001b[0m \u001b[0;36m0\u001b[0m\u001b[0;34m,\u001b[0m \u001b[0;36m1\u001b[0m\u001b[0;34m]\u001b[0m\u001b[0;34m)\u001b[0m\u001b[0;34m\u001b[0m\u001b[0;34m\u001b[0m\u001b[0m\n\u001b[0m",
      "\u001b[0;32m~/Documents/GitHub/py-bolit/venv/lib/python3.6/site-packages/pomegranate/base.pyx\u001b[0m in \u001b[0;36mpomegranate.base.Model.probability\u001b[0;34m()\u001b[0m\n",
      "\u001b[0;32m~/Documents/GitHub/py-bolit/venv/lib/python3.6/site-packages/pomegranate/BayesianNetwork.pyx\u001b[0m in \u001b[0;36mpomegranate.BayesianNetwork.BayesianNetwork.log_probability\u001b[0;34m()\u001b[0m\n",
      "\u001b[0;31mTypeError\u001b[0m: list indices must be integers or slices, not tuple"
     ]
    }
   ],
   "source": [
    "model.probability([0, 'yes', 0, 1])"
   ]
  },
  {
   "cell_type": "markdown",
   "metadata": {},
   "source": [
    "# More complex Bayes Network"
   ]
  },
  {
   "cell_type": "code",
   "execution_count": 10,
   "metadata": {},
   "outputs": [],
   "source": [
    "# Курение\n",
    "smoking = DiscreteDistribution({0: 0.35, 1: 0.65})\n",
    "\n",
    "# ОКН\n",
    "bowel_obstruction = DiscreteDistribution({0: 0.99, 1: 0.01})\n",
    "\n",
    "# ХОБЛ\n",
    "copd = ConditionalProbabilityTable([\n",
    "    \n",
    "    [0, 0, 0.94],\n",
    "    [0, 1, 0.06],\n",
    "    \n",
    "    [1, 0, 0.2],\n",
    "    [1, 1, 0.8],\n",
    "    \n",
    "], [smoking])\n",
    "\n",
    "# Кашель\n",
    "cough = ConditionalProbabilityTable([\n",
    "    \n",
    "    [0, 0, 0.7],\n",
    "    [0, 1, 0.3],\n",
    "    \n",
    "    [1, 0, 0],\n",
    "    [1, 1, 1],\n",
    "    \n",
    "], [copd])\n",
    "\n",
    "# Инфаркт\n",
    "heart_attack = ConditionalProbabilityTable([\n",
    "    \n",
    "    [0, 0, 0.7],\n",
    "    [0, 1, 0.3],\n",
    "    \n",
    "    [1, 0, 0.2],\n",
    "    [1, 1, 0.8],\n",
    "    \n",
    "],[smoking])\n",
    "\n",
    "# Одышка\n",
    "dyspnea = ConditionalProbabilityTable([\n",
    "    \n",
    "    [0, 0, 0, 0.9],\n",
    "    [0, 0, 1, 0.1],\n",
    "\n",
    "    [0, 1, 0, 0.2],\n",
    "    [0, 1, 1, 0.8],\n",
    "\n",
    "    [1, 0, 0, 0.05],\n",
    "    [1, 0, 1, 0.95],\n",
    "\n",
    "    [1, 1, 0, 0],\n",
    "    [1, 1, 1, 1],\n",
    "    \n",
    "], [copd, heart_attack])\n",
    "\n",
    "# Боль в груди\n",
    "chest_pain_syndrome = ConditionalProbabilityTable([\n",
    "    \n",
    "    [0, 0, 1],\n",
    "    [0, 1, 0],\n",
    "    \n",
    "    [1, 0, 0],\n",
    "    [1, 1, 1],\n",
    "    \n",
    "], [heart_attack])\n",
    "\n",
    "# Боль в эпигастрии\n",
    "epigastrium_pain_syndrome = ConditionalProbabilityTable([\n",
    "    \n",
    "    [0, 0, 0, 1],\n",
    "    [0, 0, 1, 0],\n",
    "\n",
    "    [0, 1, 0, 0],\n",
    "    [0, 1, 1, 1],\n",
    "\n",
    "    [1, 0, 0, 0.7],\n",
    "    [1, 0, 1, 0.3],\n",
    "\n",
    "    [1, 1, 0, 0],\n",
    "    [1, 1, 1, 1],\n",
    "    \n",
    "], [heart_attack, bowel_obstruction])"
   ]
  },
  {
   "cell_type": "code",
   "execution_count": 11,
   "metadata": {},
   "outputs": [],
   "source": [
    "s = State(smoking, name='smoking')\n",
    "bo = State(bowel_obstruction, name='bowel_obstruction')\n",
    "cd = State(copd, name='copd')\n",
    "cgh = State(cough, name='cough')\n",
    "ha = State(heart_attack, name='heart_attack')\n",
    "d = State(dyspnea, name='dyspnea')\n",
    "cps = State(chest_pain_syndrome, name='chest_pain_syndrome')\n",
    "eps = State(epigastrium_pain_syndrome, name='epigastrium_pain_syndrome')"
   ]
  },
  {
   "cell_type": "code",
   "execution_count": 16,
   "metadata": {},
   "outputs": [],
   "source": [
    "model = BayesianNetwork('Medical decision support system')\n",
    "\n",
    "model.add_states(s, bo, cd, cgh, ha, d, cps, eps)"
   ]
  },
  {
   "cell_type": "code",
   "execution_count": 17,
   "metadata": {},
   "outputs": [],
   "source": [
    "model.add_edge(s, cd)\n",
    "model.add_edge(s, ha)\n",
    "\n",
    "model.add_edge(cd, cgh)\n",
    "model.add_edge(cd, d)\n",
    "\n",
    "model.add_edge(ha, d)\n",
    "model.add_edge(ha, cps)\n",
    "\n",
    "model.add_edge(ha, eps)\n",
    "model.add_edge(bo, eps)"
   ]
  },
  {
   "cell_type": "code",
   "execution_count": 18,
   "metadata": {},
   "outputs": [],
   "source": [
    "model.bake()"
   ]
  },
  {
   "cell_type": "code",
   "execution_count": 19,
   "metadata": {},
   "outputs": [
    {
     "data": {
      "image/png": "[encoded data removed]",
      "text/plain": [
       "<Figure size 1440x1440 with 1 Axes>"
      ]
     },
     "metadata": {
      "needs_background": "light"
     },
     "output_type": "display_data"
    }
   ],
   "source": [
    "plt.figure(figsize=(20, 20))\n",
    "model.plot()\n",
    "plt.show()"
   ]
  },
  {
   "cell_type": "code",
   "execution_count": 40,
   "metadata": {},
   "outputs": [
    {
     "name": "stdout",
     "output_type": "stream",
     "text": [
      "smoking\tbowel_obstruction\tcopd\tcough\theart_attack\tdyspnea\tchest_pain_syndrome\tepigastrium_pain_syndrome\n"
     ]
    }
   ],
   "source": [
    "result = model.predict_proba({'cough': 1, 'dyspnea': 1})\n",
    "# print(result)\n",
    "print('\\t'.join([state.name for state in model.states]))"
   ]
  },
  {
   "cell_type": "code",
   "execution_count": 42,
   "metadata": {},
   "outputs": [
    {
     "data": {
      "text/plain": [
       "{\n",
       "    \"class\" :\"Distribution\",\n",
       "    \"dtype\" :\"int\",\n",
       "    \"name\" :\"DiscreteDistribution\",\n",
       "    \"parameters\" :[\n",
       "        {\n",
       "            \"0\" :0.12907037691961967,\n",
       "            \"1\" :0.8709296230803802\n",
       "        }\n",
       "    ],\n",
       "    \"frozen\" :false\n",
       "}"
      ]
     },
     "execution_count": 42,
     "metadata": {},
     "output_type": "execute_result"
    }
   ],
   "source": [
    "result[2]"
   ]
  },
  {
   "cell_type": "code",
   "execution_count": 37,
   "metadata": {},
   "outputs": [
    {
     "data": {
      "text/plain": [
       "array([{\n",
       "    \"class\" :\"Distribution\",\n",
       "    \"dtype\" :\"int\",\n",
       "    \"name\" :\"DiscreteDistribution\",\n",
       "    \"parameters\" :[\n",
       "        {\n",
       "            \"0\" :0.06367581983573575,\n",
       "            \"1\" :0.9363241801642642\n",
       "        }\n",
       "    ],\n",
       "    \"frozen\" :false\n",
       "},\n",
       "       {\n",
       "    \"class\" :\"Distribution\",\n",
       "    \"dtype\" :\"int\",\n",
       "    \"name\" :\"DiscreteDistribution\",\n",
       "    \"parameters\" :[\n",
       "        {\n",
       "            \"0\" :0.9899999999999995,\n",
       "            \"1\" :0.010000000000000444\n",
       "        }\n",
       "    ],\n",
       "    \"frozen\" :false\n",
       "},\n",
       "       {\n",
       "    \"class\" :\"Distribution\",\n",
       "    \"dtype\" :\"int\",\n",
       "    \"name\" :\"DiscreteDistribution\",\n",
       "    \"parameters\" :[\n",
       "        {\n",
       "            \"0\" :0.10329802865709195,\n",
       "            \"1\" :0.8967019713429081\n",
       "        }\n",
       "    ],\n",
       "    \"frozen\" :false\n",
       "},\n",
       "       1,\n",
       "       {\n",
       "    \"class\" :\"Distribution\",\n",
       "    \"dtype\" :\"int\",\n",
       "    \"name\" :\"DiscreteDistribution\",\n",
       "    \"parameters\" :[\n",
       "        {\n",
       "            \"0\" :0.0,\n",
       "            \"1\" :1.0\n",
       "        }\n",
       "    ],\n",
       "    \"frozen\" :false\n",
       "},\n",
       "       1, 1,\n",
       "       {\n",
       "    \"class\" :\"Distribution\",\n",
       "    \"dtype\" :\"int\",\n",
       "    \"name\" :\"DiscreteDistribution\",\n",
       "    \"parameters\" :[\n",
       "        {\n",
       "            \"0\" :0.6929999999999997,\n",
       "            \"1\" :0.30700000000000033\n",
       "        }\n",
       "    ],\n",
       "    \"frozen\" :false\n",
       "}], dtype=object)"
      ]
     },
     "execution_count": 37,
     "metadata": {},
     "output_type": "execute_result"
    }
   ],
   "source": [
    "result"
   ]
  },
  {
   "cell_type": "code",
   "execution_count": null,
   "metadata": {},
   "outputs": [],
   "source": []
  }
 ],
 "metadata": {
  "kernelspec": {
   "display_name": "Python 3",
   "language": "python",
   "name": "python3"
  },
  "language_info": {
   "codemirror_mode": {
    "name": "ipython",
    "version": 3
   },
   "file_extension": ".py",
   "mimetype": "text/x-python",
   "name": "python",
   "nbconvert_exporter": "python",
   "pygments_lexer": "ipython3",
   "version": "3.6.9"
  }
 },
 "nbformat": 4,
 "nbformat_minor": 4
}
